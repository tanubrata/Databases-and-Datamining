{
 "cells": [
  {
   "cell_type": "code",
   "execution_count": null,
   "id": "2dfeb8bf",
   "metadata": {},
   "outputs": [],
   "source": []
  },
  {
   "cell_type": "code",
   "execution_count": null,
   "id": "2fbad44e",
   "metadata": {},
   "outputs": [],
   "source": []
  },
  {
   "cell_type": "code",
   "execution_count": null,
   "id": "45b0cbaa",
   "metadata": {},
   "outputs": [],
   "source": []
  },
  {
   "cell_type": "code",
   "execution_count": 33,
   "id": "5956cc05",
   "metadata": {},
   "outputs": [],
   "source": [
    "import os\n",
    "import pandas as pd\n",
    "import seaborn as sns\n",
    "import numpy as np"
   ]
  },
  {
   "cell_type": "markdown",
   "id": "81e253e0",
   "metadata": {},
   "source": [
    " The Dataset\n",
    "\n",
    "This dataset is a collection of samples obtained from the National Institute of Diabetes and Digestive and Kidney Disease, which you can find @ NYU Classes/Assignments/Final project.\n",
    "\n",
    "\n",
    "The goal is to predict whether an individual has diabetes or not.\n",
    "The attributes are :\n",
    "\n",
    "    Pregnancies: Number of times pregnant\n",
    "\n",
    "    Glucose: Plasma glucose concentration a 2 hours in an oral glucose tolerance test\n",
    "\n",
    "    BloodPressure: Diastolic blood pressure (mm Hg)\n",
    "\n",
    "    SkinThickness: Triceps skin fold thickness (mm)\n",
    "\n",
    "    Insulin: 2-Hour serum insulin (mu U/ml)\n",
    "\n",
    "    BMI: Body mass index (weight in kg/(height in m)^2)\n",
    "\n",
    "    DiabetesPedigreeFunction: Diabetes pedigree function\n",
    "\n",
    "    Age: Age (years)\n",
    "    Outcome: Class variable (0 or 1) where 1 means they have diabetes.\n",
    "\n",
    "\n",
    "Things to do\n",
    "Load the PimaIndianDiabetes.csv dataset."
   ]
  },
  {
   "cell_type": "code",
   "execution_count": 34,
   "id": "a55e8d51",
   "metadata": {},
   "outputs": [],
   "source": [
    "diabetes_data = pd.read_csv(\"PimaIndiansDiabetes.csv\")"
   ]
  },
  {
   "cell_type": "code",
   "execution_count": 35,
   "id": "e164715e",
   "metadata": {},
   "outputs": [
    {
     "data": {
      "text/html": [
       "<div>\n",
       "<style scoped>\n",
       "    .dataframe tbody tr th:only-of-type {\n",
       "        vertical-align: middle;\n",
       "    }\n",
       "\n",
       "    .dataframe tbody tr th {\n",
       "        vertical-align: top;\n",
       "    }\n",
       "\n",
       "    .dataframe thead th {\n",
       "        text-align: right;\n",
       "    }\n",
       "</style>\n",
       "<table border=\"1\" class=\"dataframe\">\n",
       "  <thead>\n",
       "    <tr style=\"text-align: right;\">\n",
       "      <th></th>\n",
       "      <th>Pregnancies</th>\n",
       "      <th>Glucose</th>\n",
       "      <th>BloodPressure</th>\n",
       "      <th>SkinThickness</th>\n",
       "      <th>Insulin</th>\n",
       "      <th>BMI</th>\n",
       "      <th>DiabetesPedigreeFunction</th>\n",
       "      <th>Age</th>\n",
       "      <th>Outcome</th>\n",
       "    </tr>\n",
       "  </thead>\n",
       "  <tbody>\n",
       "    <tr>\n",
       "      <th>0</th>\n",
       "      <td>6</td>\n",
       "      <td>148</td>\n",
       "      <td>72</td>\n",
       "      <td>35</td>\n",
       "      <td>0</td>\n",
       "      <td>33.6</td>\n",
       "      <td>0.627</td>\n",
       "      <td>50</td>\n",
       "      <td>1</td>\n",
       "    </tr>\n",
       "    <tr>\n",
       "      <th>1</th>\n",
       "      <td>1</td>\n",
       "      <td>85</td>\n",
       "      <td>66</td>\n",
       "      <td>29</td>\n",
       "      <td>0</td>\n",
       "      <td>26.6</td>\n",
       "      <td>0.351</td>\n",
       "      <td>31</td>\n",
       "      <td>0</td>\n",
       "    </tr>\n",
       "    <tr>\n",
       "      <th>2</th>\n",
       "      <td>8</td>\n",
       "      <td>183</td>\n",
       "      <td>64</td>\n",
       "      <td>0</td>\n",
       "      <td>0</td>\n",
       "      <td>23.3</td>\n",
       "      <td>0.672</td>\n",
       "      <td>32</td>\n",
       "      <td>1</td>\n",
       "    </tr>\n",
       "    <tr>\n",
       "      <th>3</th>\n",
       "      <td>1</td>\n",
       "      <td>89</td>\n",
       "      <td>66</td>\n",
       "      <td>23</td>\n",
       "      <td>94</td>\n",
       "      <td>28.1</td>\n",
       "      <td>0.167</td>\n",
       "      <td>21</td>\n",
       "      <td>0</td>\n",
       "    </tr>\n",
       "    <tr>\n",
       "      <th>4</th>\n",
       "      <td>0</td>\n",
       "      <td>137</td>\n",
       "      <td>40</td>\n",
       "      <td>35</td>\n",
       "      <td>168</td>\n",
       "      <td>43.1</td>\n",
       "      <td>2.288</td>\n",
       "      <td>33</td>\n",
       "      <td>1</td>\n",
       "    </tr>\n",
       "    <tr>\n",
       "      <th>...</th>\n",
       "      <td>...</td>\n",
       "      <td>...</td>\n",
       "      <td>...</td>\n",
       "      <td>...</td>\n",
       "      <td>...</td>\n",
       "      <td>...</td>\n",
       "      <td>...</td>\n",
       "      <td>...</td>\n",
       "      <td>...</td>\n",
       "    </tr>\n",
       "    <tr>\n",
       "      <th>763</th>\n",
       "      <td>10</td>\n",
       "      <td>101</td>\n",
       "      <td>76</td>\n",
       "      <td>48</td>\n",
       "      <td>180</td>\n",
       "      <td>32.9</td>\n",
       "      <td>0.171</td>\n",
       "      <td>63</td>\n",
       "      <td>0</td>\n",
       "    </tr>\n",
       "    <tr>\n",
       "      <th>764</th>\n",
       "      <td>2</td>\n",
       "      <td>122</td>\n",
       "      <td>70</td>\n",
       "      <td>27</td>\n",
       "      <td>0</td>\n",
       "      <td>36.8</td>\n",
       "      <td>0.340</td>\n",
       "      <td>27</td>\n",
       "      <td>0</td>\n",
       "    </tr>\n",
       "    <tr>\n",
       "      <th>765</th>\n",
       "      <td>5</td>\n",
       "      <td>121</td>\n",
       "      <td>72</td>\n",
       "      <td>23</td>\n",
       "      <td>112</td>\n",
       "      <td>26.2</td>\n",
       "      <td>0.245</td>\n",
       "      <td>30</td>\n",
       "      <td>0</td>\n",
       "    </tr>\n",
       "    <tr>\n",
       "      <th>766</th>\n",
       "      <td>1</td>\n",
       "      <td>126</td>\n",
       "      <td>60</td>\n",
       "      <td>0</td>\n",
       "      <td>0</td>\n",
       "      <td>30.1</td>\n",
       "      <td>0.349</td>\n",
       "      <td>47</td>\n",
       "      <td>1</td>\n",
       "    </tr>\n",
       "    <tr>\n",
       "      <th>767</th>\n",
       "      <td>1</td>\n",
       "      <td>93</td>\n",
       "      <td>70</td>\n",
       "      <td>31</td>\n",
       "      <td>0</td>\n",
       "      <td>30.4</td>\n",
       "      <td>0.315</td>\n",
       "      <td>23</td>\n",
       "      <td>0</td>\n",
       "    </tr>\n",
       "  </tbody>\n",
       "</table>\n",
       "<p>768 rows × 9 columns</p>\n",
       "</div>"
      ],
      "text/plain": [
       "     Pregnancies  Glucose  BloodPressure  SkinThickness  Insulin   BMI  \\\n",
       "0              6      148             72             35        0  33.6   \n",
       "1              1       85             66             29        0  26.6   \n",
       "2              8      183             64              0        0  23.3   \n",
       "3              1       89             66             23       94  28.1   \n",
       "4              0      137             40             35      168  43.1   \n",
       "..           ...      ...            ...            ...      ...   ...   \n",
       "763           10      101             76             48      180  32.9   \n",
       "764            2      122             70             27        0  36.8   \n",
       "765            5      121             72             23      112  26.2   \n",
       "766            1      126             60              0        0  30.1   \n",
       "767            1       93             70             31        0  30.4   \n",
       "\n",
       "     DiabetesPedigreeFunction  Age  Outcome  \n",
       "0                       0.627   50        1  \n",
       "1                       0.351   31        0  \n",
       "2                       0.672   32        1  \n",
       "3                       0.167   21        0  \n",
       "4                       2.288   33        1  \n",
       "..                        ...  ...      ...  \n",
       "763                     0.171   63        0  \n",
       "764                     0.340   27        0  \n",
       "765                     0.245   30        0  \n",
       "766                     0.349   47        1  \n",
       "767                     0.315   23        0  \n",
       "\n",
       "[768 rows x 9 columns]"
      ]
     },
     "execution_count": 35,
     "metadata": {},
     "output_type": "execute_result"
    }
   ],
   "source": [
    "diabetes_data"
   ]
  },
  {
   "cell_type": "code",
   "execution_count": null,
   "id": "98468662",
   "metadata": {},
   "outputs": [],
   "source": []
  },
  {
   "cell_type": "markdown",
   "id": "6ba86524",
   "metadata": {},
   "source": [
    "\n",
    "### Q1: Which variables are numeric and which are categorical? Explain why. (20pts)\n",
    "\n",
    "Make sure to convert the variables to the correct type.\n",
    "\n",
    "All of the variables are numeric except \"Outcome\" which is categorical because it is either 0 or 1."
   ]
  },
  {
   "cell_type": "code",
   "execution_count": 36,
   "id": "befbd244",
   "metadata": {},
   "outputs": [],
   "source": [
    "diabetes_data.Outcome = diabetes_data.Outcome.astype('category')"
   ]
  },
  {
   "cell_type": "markdown",
   "id": "0473420f",
   "metadata": {},
   "source": [
    "\n",
    "### Q2: Which of the variables ( on their own ) are most helpful in predicting the outcome? (20pts)\n",
    "\n",
    "    For each variable draw an appropriate graph ( boxplot or violinplot for numerical values and barplot for categorical values). Explain your answer.\n",
    "\n"
   ]
  },
  {
   "cell_type": "code",
   "execution_count": 37,
   "id": "0ddfaeab",
   "metadata": {},
   "outputs": [
    {
     "data": {
      "text/plain": [
       "<AxesSubplot:xlabel='Outcome', ylabel='Pregnancies'>"
      ]
     },
     "execution_count": 37,
     "metadata": {},
     "output_type": "execute_result"
    },
    {
     "data": {
      "image/png": "[encoded data removed]",
      "text/plain": [
       "<Figure size 432x288 with 1 Axes>"
      ]
     },
     "metadata": {
      "needs_background": "light"
     },
     "output_type": "display_data"
    }
   ],
   "source": [
    "sns.boxplot(y=diabetes_data.Pregnancies, x=diabetes_data.Outcome)"
   ]
  },
  {
   "cell_type": "code",
   "execution_count": 38,
   "id": "73b0df9e",
   "metadata": {},
   "outputs": [
    {
     "data": {
      "text/plain": [
       "<AxesSubplot:xlabel='Outcome', ylabel='Glucose'>"
      ]
     },
     "execution_count": 38,
     "metadata": {},
     "output_type": "execute_result"
    },
    {
     "data": {
      "image/png": "[encoded data removed]",
      "text/plain": [
       "<Figure size 432x288 with 1 Axes>"
      ]
     },
     "metadata": {
      "needs_background": "light"
     },
     "output_type": "display_data"
    }
   ],
   "source": [
    "sns.boxplot(y=diabetes_data.Glucose, x=diabetes_data.Outcome)"
   ]
  },
  {
   "cell_type": "code",
   "execution_count": 39,
   "id": "70708801",
   "metadata": {},
   "outputs": [
    {
     "data": {
      "text/plain": [
       "<AxesSubplot:xlabel='Outcome', ylabel='BloodPressure'>"
      ]
     },
     "execution_count": 39,
     "metadata": {},
     "output_type": "execute_result"
    },
    {
     "data": {
      "image/png": "[encoded data removed]",
      "text/plain": [
       "<Figure size 432x288 with 1 Axes>"
      ]
     },
     "metadata": {
      "needs_background": "light"
     },
     "output_type": "display_data"
    }
   ],
   "source": [
    "sns.boxplot(y=diabetes_data.BloodPressure, x=diabetes_data.Outcome)"
   ]
  },
  {
   "cell_type": "code",
   "execution_count": 40,
   "id": "b9033f15",
   "metadata": {},
   "outputs": [
    {
     "data": {
      "text/plain": [
       "<AxesSubplot:xlabel='Outcome', ylabel='SkinThickness'>"
      ]
     },
     "execution_count": 40,
     "metadata": {},
     "output_type": "execute_result"
    },
    {
     "data": {
      "image/png": "[encoded data removed]",
      "text/plain": [
       "<Figure size 432x288 with 1 Axes>"
      ]
     },
     "metadata": {
      "needs_background": "light"
     },
     "output_type": "display_data"
    }
   ],
   "source": [
    "sns.boxplot(y=diabetes_data.SkinThickness, x=diabetes_data.Outcome)"
   ]
  },
  {
   "cell_type": "code",
   "execution_count": 41,
   "id": "1cac0e37",
   "metadata": {},
   "outputs": [
    {
     "data": {
      "text/plain": [
       "<AxesSubplot:xlabel='Outcome', ylabel='Insulin'>"
      ]
     },
     "execution_count": 41,
     "metadata": {},
     "output_type": "execute_result"
    },
    {
     "data": {
      "image/png": "[encoded data removed]",
      "text/plain": [
       "<Figure size 432x288 with 1 Axes>"
      ]
     },
     "metadata": {
      "needs_background": "light"
     },
     "output_type": "display_data"
    }
   ],
   "source": [
    "sns.boxplot(y=diabetes_data.Insulin, x=diabetes_data.Outcome)"
   ]
  },
  {
   "cell_type": "code",
   "execution_count": 42,
   "id": "0cc147c4",
   "metadata": {},
   "outputs": [
    {
     "data": {
      "text/plain": [
       "<AxesSubplot:xlabel='Outcome', ylabel='BMI'>"
      ]
     },
     "execution_count": 42,
     "metadata": {},
     "output_type": "execute_result"
    },
    {
     "data": {
      "image/png": "[encoded data removed]",
      "text/plain": [
       "<Figure size 432x288 with 1 Axes>"
      ]
     },
     "metadata": {
      "needs_background": "light"
     },
     "output_type": "display_data"
    }
   ],
   "source": [
    "sns.boxplot(y=diabetes_data.BMI, x=diabetes_data.Outcome)"
   ]
  },
  {
   "cell_type": "code",
   "execution_count": 43,
   "id": "13862b5d",
   "metadata": {},
   "outputs": [
    {
     "data": {
      "text/plain": [
       "<AxesSubplot:xlabel='Outcome', ylabel='DiabetesPedigreeFunction'>"
      ]
     },
     "execution_count": 43,
     "metadata": {},
     "output_type": "execute_result"
    },
    {
     "data": {
      "image/png": "[encoded data removed]",
      "text/plain": [
       "<Figure size 432x288 with 1 Axes>"
      ]
     },
     "metadata": {
      "needs_background": "light"
     },
     "output_type": "display_data"
    }
   ],
   "source": [
    "sns.boxplot(y=diabetes_data.DiabetesPedigreeFunction, x=diabetes_data.Outcome)"
   ]
  },
  {
   "cell_type": "code",
   "execution_count": 44,
   "id": "e9b8e355",
   "metadata": {},
   "outputs": [
    {
     "data": {
      "text/plain": [
       "<AxesSubplot:xlabel='Outcome', ylabel='Age'>"
      ]
     },
     "execution_count": 44,
     "metadata": {},
     "output_type": "execute_result"
    },
    {
     "data": {
      "image/png": "[encoded data removed]",
      "text/plain": [
       "<Figure size 432x288 with 1 Axes>"
      ]
     },
     "metadata": {
      "needs_background": "light"
     },
     "output_type": "display_data"
    }
   ],
   "source": [
    "sns.boxplot(y=diabetes_data.Age, x=diabetes_data.Outcome)"
   ]
  },
  {
   "cell_type": "code",
   "execution_count": 45,
   "id": "d53b151f",
   "metadata": {},
   "outputs": [
    {
     "data": {
      "text/plain": [
       "<AxesSubplot:>"
      ]
     },
     "execution_count": 45,
     "metadata": {},
     "output_type": "execute_result"
    },
    {
     "data": {
      "image/png": "[encoded data removed]",
      "text/plain": [
       "<Figure size 432x288 with 1 Axes>"
      ]
     },
     "metadata": {
      "needs_background": "light"
     },
     "output_type": "display_data"
    }
   ],
   "source": [
    "outcome=diabetes_data[\"Outcome\"].value_counts()\n",
    "outcome.plot(kind=\"bar\")"
   ]
  },
  {
   "cell_type": "markdown",
   "id": "7ded10ed",
   "metadata": {},
   "source": [
    "\n",
    "### Q3: How do we fix missing values? (20pts)\n",
    "\n",
    "    Notice that some of the values are missing and replaced with 0. For example a blood pressure of 0 doesn’t make sense and it can have an impact on the models. So how do we identify which 0 reoresents the value 0 and which represents NA? Explain your answer.\n",
    "\n"
   ]
  },
  {
   "cell_type": "code",
   "execution_count": 46,
   "id": "579044e6",
   "metadata": {},
   "outputs": [
    {
     "name": "stdout",
     "output_type": "stream",
     "text": [
      "<class 'pandas.core.frame.DataFrame'>\n",
      "RangeIndex: 768 entries, 0 to 767\n",
      "Data columns (total 9 columns):\n",
      " #   Column                    Non-Null Count  Dtype   \n",
      "---  ------                    --------------  -----   \n",
      " 0   Pregnancies               768 non-null    int64   \n",
      " 1   Glucose                   768 non-null    int64   \n",
      " 2   BloodPressure             768 non-null    int64   \n",
      " 3   SkinThickness             768 non-null    int64   \n",
      " 4   Insulin                   768 non-null    int64   \n",
      " 5   BMI                       768 non-null    float64 \n",
      " 6   DiabetesPedigreeFunction  768 non-null    float64 \n",
      " 7   Age                       768 non-null    int64   \n",
      " 8   Outcome                   768 non-null    category\n",
      "dtypes: category(1), float64(2), int64(6)\n",
      "memory usage: 49.0 KB\n"
     ]
    },
    {
     "data": {
      "text/plain": [
       "None"
      ]
     },
     "metadata": {},
     "output_type": "display_data"
    }
   ],
   "source": [
    "display(diabetes_data.info())"
   ]
  },
  {
   "cell_type": "code",
   "execution_count": 47,
   "id": "dc6fb671",
   "metadata": {},
   "outputs": [
    {
     "data": {
      "text/plain": [
       "Pregnancies                 0\n",
       "Glucose                     0\n",
       "BloodPressure               0\n",
       "SkinThickness               0\n",
       "Insulin                     0\n",
       "BMI                         0\n",
       "DiabetesPedigreeFunction    0\n",
       "Age                         0\n",
       "Outcome                     0\n",
       "dtype: int64"
      ]
     },
     "metadata": {},
     "output_type": "display_data"
    }
   ],
   "source": [
    "display(diabetes_data.isnull().sum())"
   ]
  },
  {
   "cell_type": "markdown",
   "id": "d8591a33",
   "metadata": {},
   "source": [
    "Here we can see that the columns in the diabetes data are non-null and does not have any nulls. This is because the null values are replaced with 0 in some values. So to fix it we have to identify and see what kind of value type could be considered could be zero or zero doesn't make sense for it."
   ]
  },
  {
   "cell_type": "markdown",
   "id": "ce7ca857",
   "metadata": {},
   "source": [
    "Now to make a judgement, if you see the columns Glucose, Blood Pressure, Skin Thickness, Insulin and BMI, 0 does not make sense for them! If we see 0 in pregnancies, it does make sense that they had some kind of complications. DiabetesPedigreeFunction column does not have a zero, so we can leave that for judgement. And Outcome could be 0 or 1, so its okay.\n",
    "\n",
    "To make the machine observe the columns as null, I will convert those specific columns from 0 to NA."
   ]
  },
  {
   "cell_type": "code",
   "execution_count": 48,
   "id": "219e72b4",
   "metadata": {},
   "outputs": [
    {
     "data": {
      "text/html": [
       "<div>\n",
       "<style scoped>\n",
       "    .dataframe tbody tr th:only-of-type {\n",
       "        vertical-align: middle;\n",
       "    }\n",
       "\n",
       "    .dataframe tbody tr th {\n",
       "        vertical-align: top;\n",
       "    }\n",
       "\n",
       "    .dataframe thead th {\n",
       "        text-align: right;\n",
       "    }\n",
       "</style>\n",
       "<table border=\"1\" class=\"dataframe\">\n",
       "  <thead>\n",
       "    <tr style=\"text-align: right;\">\n",
       "      <th></th>\n",
       "      <th>Pregnancies</th>\n",
       "      <th>Glucose</th>\n",
       "      <th>BloodPressure</th>\n",
       "      <th>SkinThickness</th>\n",
       "      <th>Insulin</th>\n",
       "      <th>BMI</th>\n",
       "      <th>DiabetesPedigreeFunction</th>\n",
       "      <th>Age</th>\n",
       "      <th>Outcome</th>\n",
       "    </tr>\n",
       "  </thead>\n",
       "  <tbody>\n",
       "    <tr>\n",
       "      <th>0</th>\n",
       "      <td>6</td>\n",
       "      <td>148</td>\n",
       "      <td>72</td>\n",
       "      <td>35</td>\n",
       "      <td>0</td>\n",
       "      <td>33.6</td>\n",
       "      <td>0.627</td>\n",
       "      <td>50</td>\n",
       "      <td>1</td>\n",
       "    </tr>\n",
       "    <tr>\n",
       "      <th>1</th>\n",
       "      <td>1</td>\n",
       "      <td>85</td>\n",
       "      <td>66</td>\n",
       "      <td>29</td>\n",
       "      <td>0</td>\n",
       "      <td>26.6</td>\n",
       "      <td>0.351</td>\n",
       "      <td>31</td>\n",
       "      <td>0</td>\n",
       "    </tr>\n",
       "    <tr>\n",
       "      <th>2</th>\n",
       "      <td>8</td>\n",
       "      <td>183</td>\n",
       "      <td>64</td>\n",
       "      <td>0</td>\n",
       "      <td>0</td>\n",
       "      <td>23.3</td>\n",
       "      <td>0.672</td>\n",
       "      <td>32</td>\n",
       "      <td>1</td>\n",
       "    </tr>\n",
       "    <tr>\n",
       "      <th>3</th>\n",
       "      <td>1</td>\n",
       "      <td>89</td>\n",
       "      <td>66</td>\n",
       "      <td>23</td>\n",
       "      <td>94</td>\n",
       "      <td>28.1</td>\n",
       "      <td>0.167</td>\n",
       "      <td>21</td>\n",
       "      <td>0</td>\n",
       "    </tr>\n",
       "    <tr>\n",
       "      <th>4</th>\n",
       "      <td>0</td>\n",
       "      <td>137</td>\n",
       "      <td>40</td>\n",
       "      <td>35</td>\n",
       "      <td>168</td>\n",
       "      <td>43.1</td>\n",
       "      <td>2.288</td>\n",
       "      <td>33</td>\n",
       "      <td>1</td>\n",
       "    </tr>\n",
       "  </tbody>\n",
       "</table>\n",
       "</div>"
      ],
      "text/plain": [
       "   Pregnancies  Glucose  BloodPressure  SkinThickness  Insulin   BMI  \\\n",
       "0            6      148             72             35        0  33.6   \n",
       "1            1       85             66             29        0  26.6   \n",
       "2            8      183             64              0        0  23.3   \n",
       "3            1       89             66             23       94  28.1   \n",
       "4            0      137             40             35      168  43.1   \n",
       "\n",
       "   DiabetesPedigreeFunction  Age Outcome  \n",
       "0                     0.627   50       1  \n",
       "1                     0.351   31       0  \n",
       "2                     0.672   32       1  \n",
       "3                     0.167   21       0  \n",
       "4                     2.288   33       1  "
      ]
     },
     "execution_count": 48,
     "metadata": {},
     "output_type": "execute_result"
    }
   ],
   "source": [
    "diabetes_data1 = diabetes_data.copy()\n",
    "diabetes_data1.head()"
   ]
  },
  {
   "cell_type": "code",
   "execution_count": 49,
   "id": "783abd5c",
   "metadata": {},
   "outputs": [],
   "source": [
    "diabetes_data1[[\"Glucose\", \"BloodPressure\", \"SkinThickness\", \"Insulin\", \"BMI\"]]=diabetes_data1[[\"Glucose\", \"BloodPressure\", \"SkinThickness\", \"Insulin\", \"BMI\"]].replace(0, np.NaN)"
   ]
  },
  {
   "cell_type": "code",
   "execution_count": 50,
   "id": "4faedcd7",
   "metadata": {},
   "outputs": [
    {
     "data": {
      "text/plain": [
       "Pregnancies                   0\n",
       "Glucose                       5\n",
       "BloodPressure                35\n",
       "SkinThickness               227\n",
       "Insulin                     374\n",
       "BMI                          11\n",
       "DiabetesPedigreeFunction      0\n",
       "Age                           0\n",
       "Outcome                       0\n",
       "dtype: int64"
      ]
     },
     "metadata": {},
     "output_type": "display_data"
    }
   ],
   "source": [
    "display(diabetes_data1.isnull().sum())"
   ]
  },
  {
   "cell_type": "code",
   "execution_count": 51,
   "id": "8ec04a32",
   "metadata": {},
   "outputs": [
    {
     "data": {
      "text/html": [
       "<div>\n",
       "<style scoped>\n",
       "    .dataframe tbody tr th:only-of-type {\n",
       "        vertical-align: middle;\n",
       "    }\n",
       "\n",
       "    .dataframe tbody tr th {\n",
       "        vertical-align: top;\n",
       "    }\n",
       "\n",
       "    .dataframe thead th {\n",
       "        text-align: right;\n",
       "    }\n",
       "</style>\n",
       "<table border=\"1\" class=\"dataframe\">\n",
       "  <thead>\n",
       "    <tr style=\"text-align: right;\">\n",
       "      <th></th>\n",
       "      <th>Pregnancies</th>\n",
       "      <th>Glucose</th>\n",
       "      <th>BloodPressure</th>\n",
       "      <th>SkinThickness</th>\n",
       "      <th>Insulin</th>\n",
       "      <th>BMI</th>\n",
       "      <th>DiabetesPedigreeFunction</th>\n",
       "      <th>Age</th>\n",
       "      <th>Outcome</th>\n",
       "    </tr>\n",
       "  </thead>\n",
       "  <tbody>\n",
       "    <tr>\n",
       "      <th>0</th>\n",
       "      <td>6</td>\n",
       "      <td>148.0</td>\n",
       "      <td>72.0</td>\n",
       "      <td>35.0</td>\n",
       "      <td>NaN</td>\n",
       "      <td>33.6</td>\n",
       "      <td>0.627</td>\n",
       "      <td>50</td>\n",
       "      <td>1</td>\n",
       "    </tr>\n",
       "    <tr>\n",
       "      <th>1</th>\n",
       "      <td>1</td>\n",
       "      <td>85.0</td>\n",
       "      <td>66.0</td>\n",
       "      <td>29.0</td>\n",
       "      <td>NaN</td>\n",
       "      <td>26.6</td>\n",
       "      <td>0.351</td>\n",
       "      <td>31</td>\n",
       "      <td>0</td>\n",
       "    </tr>\n",
       "    <tr>\n",
       "      <th>2</th>\n",
       "      <td>8</td>\n",
       "      <td>183.0</td>\n",
       "      <td>64.0</td>\n",
       "      <td>NaN</td>\n",
       "      <td>NaN</td>\n",
       "      <td>23.3</td>\n",
       "      <td>0.672</td>\n",
       "      <td>32</td>\n",
       "      <td>1</td>\n",
       "    </tr>\n",
       "    <tr>\n",
       "      <th>3</th>\n",
       "      <td>1</td>\n",
       "      <td>89.0</td>\n",
       "      <td>66.0</td>\n",
       "      <td>23.0</td>\n",
       "      <td>94.0</td>\n",
       "      <td>28.1</td>\n",
       "      <td>0.167</td>\n",
       "      <td>21</td>\n",
       "      <td>0</td>\n",
       "    </tr>\n",
       "    <tr>\n",
       "      <th>4</th>\n",
       "      <td>0</td>\n",
       "      <td>137.0</td>\n",
       "      <td>40.0</td>\n",
       "      <td>35.0</td>\n",
       "      <td>168.0</td>\n",
       "      <td>43.1</td>\n",
       "      <td>2.288</td>\n",
       "      <td>33</td>\n",
       "      <td>1</td>\n",
       "    </tr>\n",
       "    <tr>\n",
       "      <th>...</th>\n",
       "      <td>...</td>\n",
       "      <td>...</td>\n",
       "      <td>...</td>\n",
       "      <td>...</td>\n",
       "      <td>...</td>\n",
       "      <td>...</td>\n",
       "      <td>...</td>\n",
       "      <td>...</td>\n",
       "      <td>...</td>\n",
       "    </tr>\n",
       "    <tr>\n",
       "      <th>763</th>\n",
       "      <td>10</td>\n",
       "      <td>101.0</td>\n",
       "      <td>76.0</td>\n",
       "      <td>48.0</td>\n",
       "      <td>180.0</td>\n",
       "      <td>32.9</td>\n",
       "      <td>0.171</td>\n",
       "      <td>63</td>\n",
       "      <td>0</td>\n",
       "    </tr>\n",
       "    <tr>\n",
       "      <th>764</th>\n",
       "      <td>2</td>\n",
       "      <td>122.0</td>\n",
       "      <td>70.0</td>\n",
       "      <td>27.0</td>\n",
       "      <td>NaN</td>\n",
       "      <td>36.8</td>\n",
       "      <td>0.340</td>\n",
       "      <td>27</td>\n",
       "      <td>0</td>\n",
       "    </tr>\n",
       "    <tr>\n",
       "      <th>765</th>\n",
       "      <td>5</td>\n",
       "      <td>121.0</td>\n",
       "      <td>72.0</td>\n",
       "      <td>23.0</td>\n",
       "      <td>112.0</td>\n",
       "      <td>26.2</td>\n",
       "      <td>0.245</td>\n",
       "      <td>30</td>\n",
       "      <td>0</td>\n",
       "    </tr>\n",
       "    <tr>\n",
       "      <th>766</th>\n",
       "      <td>1</td>\n",
       "      <td>126.0</td>\n",
       "      <td>60.0</td>\n",
       "      <td>NaN</td>\n",
       "      <td>NaN</td>\n",
       "      <td>30.1</td>\n",
       "      <td>0.349</td>\n",
       "      <td>47</td>\n",
       "      <td>1</td>\n",
       "    </tr>\n",
       "    <tr>\n",
       "      <th>767</th>\n",
       "      <td>1</td>\n",
       "      <td>93.0</td>\n",
       "      <td>70.0</td>\n",
       "      <td>31.0</td>\n",
       "      <td>NaN</td>\n",
       "      <td>30.4</td>\n",
       "      <td>0.315</td>\n",
       "      <td>23</td>\n",
       "      <td>0</td>\n",
       "    </tr>\n",
       "  </tbody>\n",
       "</table>\n",
       "<p>768 rows × 9 columns</p>\n",
       "</div>"
      ],
      "text/plain": [
       "     Pregnancies  Glucose  BloodPressure  SkinThickness  Insulin   BMI  \\\n",
       "0              6    148.0           72.0           35.0      NaN  33.6   \n",
       "1              1     85.0           66.0           29.0      NaN  26.6   \n",
       "2              8    183.0           64.0            NaN      NaN  23.3   \n",
       "3              1     89.0           66.0           23.0     94.0  28.1   \n",
       "4              0    137.0           40.0           35.0    168.0  43.1   \n",
       "..           ...      ...            ...            ...      ...   ...   \n",
       "763           10    101.0           76.0           48.0    180.0  32.9   \n",
       "764            2    122.0           70.0           27.0      NaN  36.8   \n",
       "765            5    121.0           72.0           23.0    112.0  26.2   \n",
       "766            1    126.0           60.0            NaN      NaN  30.1   \n",
       "767            1     93.0           70.0           31.0      NaN  30.4   \n",
       "\n",
       "     DiabetesPedigreeFunction  Age Outcome  \n",
       "0                       0.627   50       1  \n",
       "1                       0.351   31       0  \n",
       "2                       0.672   32       1  \n",
       "3                       0.167   21       0  \n",
       "4                       2.288   33       1  \n",
       "..                        ...  ...     ...  \n",
       "763                     0.171   63       0  \n",
       "764                     0.340   27       0  \n",
       "765                     0.245   30       0  \n",
       "766                     0.349   47       1  \n",
       "767                     0.315   23       0  \n",
       "\n",
       "[768 rows x 9 columns]"
      ]
     },
     "execution_count": 51,
     "metadata": {},
     "output_type": "execute_result"
    }
   ],
   "source": [
    "diabetes_data1"
   ]
  },
  {
   "cell_type": "code",
   "execution_count": 52,
   "id": "9c96a79f",
   "metadata": {},
   "outputs": [
    {
     "data": {
      "text/plain": [
       "Pregnancies                   3.0000\n",
       "Glucose                     117.0000\n",
       "BloodPressure                72.0000\n",
       "SkinThickness                29.0000\n",
       "Insulin                     125.0000\n",
       "BMI                          32.3000\n",
       "DiabetesPedigreeFunction      0.3725\n",
       "Age                          29.0000\n",
       "dtype: float64"
      ]
     },
     "execution_count": 52,
     "metadata": {},
     "output_type": "execute_result"
    }
   ],
   "source": [
    "diabetes_data1.median()"
   ]
  },
  {
   "cell_type": "code",
   "execution_count": 53,
   "id": "8f4086f1",
   "metadata": {},
   "outputs": [
    {
     "name": "stdout",
     "output_type": "stream",
     "text": [
      "121.6867627785059\n",
      "72.40518417462484\n",
      "29.153419593345657\n",
      "155.5482233502538\n",
      "32.457463672391015\n"
     ]
    }
   ],
   "source": [
    "print(diabetes_data1.Glucose.mean())\n",
    "print(diabetes_data1.BloodPressure.mean())\n",
    "print(diabetes_data1.SkinThickness.mean())\n",
    "print(diabetes_data1.Insulin.mean())\n",
    "print(diabetes_data1.BMI.mean())"
   ]
  },
  {
   "cell_type": "code",
   "execution_count": 54,
   "id": "b6672e6d",
   "metadata": {},
   "outputs": [],
   "source": [
    "#train_data.median()"
   ]
  },
  {
   "cell_type": "code",
   "execution_count": 55,
   "id": "b25d13c9",
   "metadata": {},
   "outputs": [],
   "source": [
    "diabetes_data2 = diabetes_data1.copy()"
   ]
  },
  {
   "cell_type": "code",
   "execution_count": 56,
   "id": "259633bf",
   "metadata": {},
   "outputs": [],
   "source": [
    "test_data = diabetes_data2.dropna()\n",
    "test_data = test_data.sample(154, random_state=32)\n",
    "\n",
    "\n",
    "whole_index = diabetes_data2.index\n",
    "test_index = test_data.index\n",
    "train_index = whole_index.difference(test_index)\n",
    "\n",
    "train_data = diabetes_data2.loc[train_index,]"
   ]
  },
  {
   "cell_type": "code",
   "execution_count": 57,
   "id": "36244567",
   "metadata": {},
   "outputs": [
    {
     "data": {
      "text/plain": [
       "Pregnancies                 0\n",
       "Glucose                     0\n",
       "BloodPressure               0\n",
       "SkinThickness               0\n",
       "Insulin                     0\n",
       "BMI                         0\n",
       "DiabetesPedigreeFunction    0\n",
       "Age                         0\n",
       "Outcome                     0\n",
       "dtype: int64"
      ]
     },
     "execution_count": 57,
     "metadata": {},
     "output_type": "execute_result"
    }
   ],
   "source": [
    "test_data.isnull().sum()"
   ]
  },
  {
   "cell_type": "code",
   "execution_count": 58,
   "id": "2b726d0d",
   "metadata": {},
   "outputs": [
    {
     "data": {
      "text/plain": [
       "Pregnancies                   3.000\n",
       "Glucose                     117.000\n",
       "BloodPressure                72.000\n",
       "SkinThickness                30.000\n",
       "Insulin                     125.000\n",
       "BMI                          32.400\n",
       "DiabetesPedigreeFunction      0.353\n",
       "Age                          30.000\n",
       "dtype: float64"
      ]
     },
     "execution_count": 58,
     "metadata": {},
     "output_type": "execute_result"
    }
   ],
   "source": [
    "train_data.median()"
   ]
  },
  {
   "cell_type": "code",
   "execution_count": 59,
   "id": "77c65acf",
   "metadata": {},
   "outputs": [],
   "source": [
    "train_data.loc[(train_data['Glucose'].isnull()), 'Glucose'] = 117\n",
    "train_data.loc[(train_data['BloodPressure'].isnull()), 'BloodPressure'] = 72.00\n",
    "train_data.loc[(train_data['SkinThickness'].isnull()), 'SkinThickness'] = 30.00\n",
    "train_data.loc[(train_data['Insulin'].isnull()), 'Insulin'] = 125.00\n",
    "train_data.loc[(train_data['BMI'].isnull()), 'BMI'] = 32.4\n"
   ]
  },
  {
   "cell_type": "code",
   "execution_count": 60,
   "id": "046a2531",
   "metadata": {},
   "outputs": [],
   "source": [
    "diabetes_data2.loc[(diabetes_data2['Glucose'].isnull()), 'Glucose'] = 117\n",
    "diabetes_data2.loc[(diabetes_data2['BloodPressure'].isnull()), 'BloodPressure'] = 72\n",
    "diabetes_data2.loc[(diabetes_data2['SkinThickness'].isnull()), 'SkinThickness'] = 30\n",
    "diabetes_data2.loc[(diabetes_data2['Insulin'].isnull()), 'Insulin'] = 125\n",
    "diabetes_data2.loc[(diabetes_data2['BMI'].isnull()), 'BMI'] = 32.40\n"
   ]
  },
  {
   "cell_type": "code",
   "execution_count": 61,
   "id": "49d66f49",
   "metadata": {},
   "outputs": [
    {
     "data": {
      "text/plain": [
       "Pregnancies                 0\n",
       "Glucose                     0\n",
       "BloodPressure               0\n",
       "SkinThickness               0\n",
       "Insulin                     0\n",
       "BMI                         0\n",
       "DiabetesPedigreeFunction    0\n",
       "Age                         0\n",
       "Outcome                     0\n",
       "dtype: int64"
      ]
     },
     "execution_count": 61,
     "metadata": {},
     "output_type": "execute_result"
    }
   ],
   "source": [
    "train_data.isnull().sum()"
   ]
  },
  {
   "cell_type": "markdown",
   "id": "d1affbdf",
   "metadata": {},
   "source": [
    "Now I have marked all the NAs in the dataset, so I can go over and fix the nulls by replacing with the median values of each column discussed above."
   ]
  },
  {
   "cell_type": "code",
   "execution_count": null,
   "id": "4d143228",
   "metadata": {},
   "outputs": [],
   "source": []
  },
  {
   "cell_type": "code",
   "execution_count": null,
   "id": "a68f8765",
   "metadata": {},
   "outputs": [],
   "source": []
  },
  {
   "cell_type": "code",
   "execution_count": 62,
   "id": "37ff8e4a",
   "metadata": {},
   "outputs": [],
   "source": [
    "x_test = np.array(test_data[[\"Pregnancies\", \"Glucose\", \"BloodPressure\", \"SkinThickness\", \"Insulin\", \"BMI\", \"DiabetesPedigreeFunction\",\"Age\"]])\n",
    "y_test = np.array(test_data[\"Outcome\"])\n",
    "\n",
    "x_train = np.array(train_data[[\"Pregnancies\", \"Glucose\", \"BloodPressure\", \"SkinThickness\", \"Insulin\", \"BMI\", \"DiabetesPedigreeFunction\",\"Age\"]])\n",
    "y_train = np.array(train_data[\"Outcome\"])"
   ]
  },
  {
   "cell_type": "code",
   "execution_count": null,
   "id": "d40cd319",
   "metadata": {},
   "outputs": [],
   "source": []
  },
  {
   "cell_type": "code",
   "execution_count": 188,
   "id": "28732f11",
   "metadata": {},
   "outputs": [],
   "source": [
    "import numpy as np\n",
    "import pandas as pd\n",
    "from sklearn.compose import ColumnTransformer\n",
    "from sklearn.preprocessing import StandardScaler\n",
    "from sklearn.neighbors import KNeighborsClassifier\n",
    "from sklearn.metrics import confusion_matrix\n",
    "from sklearn.metrics import recall_score\n",
    "from sklearn.metrics import accuracy_score\n",
    "from sklearn.metrics import precision_score\n",
    "from sklearn.metrics import auc\n",
    "from sklearn.metrics import roc_curve\n",
    "from sklearn.cluster import AgglomerativeClustering\n",
    "from sklearn.cluster import KMeans\n",
    "from scipy.cluster.hierarchy import dendrogram\n",
    "from scipy.cluster.hierarchy import linkage\n",
    "from matplotlib import pyplot as plt\n",
    "import plotly.express as px\n",
    "import seaborn as sns\n",
    "import math"
   ]
  },
  {
   "cell_type": "code",
   "execution_count": 190,
   "id": "3238ce6c",
   "metadata": {},
   "outputs": [],
   "source": [
    "data_knn1 = KNeighborsClassifier(n_neighbors=89).fit(x_train, y_train)\n",
    "\n",
    "predicted1 = data_knn1.predict(x_test)\n",
    "\n",
    "predicted_proba1 = data_knn1.predict_proba(x_test)"
   ]
  },
  {
   "cell_type": "code",
   "execution_count": 191,
   "id": "158343ee",
   "metadata": {},
   "outputs": [
    {
     "name": "stdout",
     "output_type": "stream",
     "text": [
      "[[95  7]\n",
      " [31 21]]\n",
      "accuracy: 0.7532467532467533\n",
      "recall: 0.40384615384615385\n",
      "precision: 0.75\n"
     ]
    }
   ],
   "source": [
    "con_mat1 = confusion_matrix(y_test, predicted1)\n",
    "print(con_mat1)\n",
    "\n",
    "print(\"accuracy:\",accuracy_score(y_test, predicted1))\n",
    "print(\"recall:\", recall_score(y_test, predicted1))\n",
    "print(\"precision:\",precision_score(y_test,predicted1))"
   ]
  },
  {
   "cell_type": "code",
   "execution_count": 192,
   "id": "8deb529b",
   "metadata": {},
   "outputs": [
    {
     "name": "stdout",
     "output_type": "stream",
     "text": [
      "AUC of the model with k-value of  is:  0.8346530920060332\n"
     ]
    }
   ],
   "source": [
    "fpr, tpr, threshold = roc_curve(y_test, predicted_proba1[:,1])\n",
    "\n",
    "roc_auc = auc(fpr, tpr)\n",
    "\n",
    "print(\"AUC of the model with k-value of  is: \", roc_auc)"
   ]
  },
  {
   "cell_type": "code",
   "execution_count": null,
   "id": "af9fb8bc",
   "metadata": {},
   "outputs": [],
   "source": []
  },
  {
   "cell_type": "code",
   "execution_count": 67,
   "id": "d891d27e",
   "metadata": {},
   "outputs": [],
   "source": [
    "from sklearn.ensemble import RandomForestClassifier\n",
    "from collections import OrderedDict\n",
    "from sklearn.tree import export_graphviz\n",
    "from sklearn import tree\n",
    "from sklearn.metrics import roc_auc_score\n",
    "import warnings"
   ]
  },
  {
   "cell_type": "code",
   "execution_count": 166,
   "id": "95691322",
   "metadata": {},
   "outputs": [
    {
     "data": {
      "image/png": "[encoded data removed]",
      "text/plain": [
       "<Figure size 432x288 with 1 Axes>"
      ]
     },
     "metadata": {
      "needs_background": "light"
     },
     "output_type": "display_data"
    }
   ],
   "source": [
    "# supress warnings\n",
    "warnings.simplefilter('ignore')\n",
    "\n",
    "# examine different number of trees from 1 to 100\n",
    "min_estimators = 5\n",
    "max_estimators = 100\n",
    "\n",
    "# results list\n",
    "n_trees = []\n",
    "oob_errors = []\n",
    "\n",
    "# iterate from n_estimators = 5 to n_estimators = 50\n",
    "for i in range(min_estimators, max_estimators+1):\n",
    "    clf = RandomForestClassifier(n_estimators=i, oob_score=True, random_state=32)\n",
    "    clf.fit(x_train, y_train)\n",
    "    n_trees.append(i)\n",
    "    oob_errors.append(1 - clf.oob_score_)\n",
    "    \n",
    "    \n",
    "    \n",
    "    \n",
    "plt.plot(n_trees, oob_errors, '-o')\n",
    "plt.ylabel('Out-of-bag error')\n",
    "plt.xlabel('Number of trees')\n",
    "plt.show()\n",
    "\n"
   ]
  },
  {
   "cell_type": "code",
   "execution_count": 168,
   "id": "71f35550",
   "metadata": {},
   "outputs": [
    {
     "name": "stdout",
     "output_type": "stream",
     "text": [
      "Out of bag error: 0.250814332247557\n"
     ]
    }
   ],
   "source": [
    "warnings.simplefilter(\"ignore\")\n",
    "\n",
    "data_RF1 = RandomForestClassifier(n_estimators=39, oob_score=True, random_state=32)\n",
    "data_RF1.fit(x_train, y_train)\n",
    "print(\"Out of bag error:\" ,1 - data_RF1.oob_score_)"
   ]
  },
  {
   "cell_type": "code",
   "execution_count": 169,
   "id": "25d47214",
   "metadata": {},
   "outputs": [
    {
     "data": {
      "text/html": [
       "<div>\n",
       "<style scoped>\n",
       "    .dataframe tbody tr th:only-of-type {\n",
       "        vertical-align: middle;\n",
       "    }\n",
       "\n",
       "    .dataframe tbody tr th {\n",
       "        vertical-align: top;\n",
       "    }\n",
       "\n",
       "    .dataframe thead th {\n",
       "        text-align: right;\n",
       "    }\n",
       "</style>\n",
       "<table border=\"1\" class=\"dataframe\">\n",
       "  <thead>\n",
       "    <tr style=\"text-align: right;\">\n",
       "      <th></th>\n",
       "      <th>importances</th>\n",
       "      <th>feature</th>\n",
       "    </tr>\n",
       "  </thead>\n",
       "  <tbody>\n",
       "    <tr>\n",
       "      <th>1</th>\n",
       "      <td>0.257664</td>\n",
       "      <td>Glucose</td>\n",
       "    </tr>\n",
       "    <tr>\n",
       "      <th>5</th>\n",
       "      <td>0.158899</td>\n",
       "      <td>BMI</td>\n",
       "    </tr>\n",
       "    <tr>\n",
       "      <th>6</th>\n",
       "      <td>0.142901</td>\n",
       "      <td>DiabetesPedigreeFunction</td>\n",
       "    </tr>\n",
       "    <tr>\n",
       "      <th>7</th>\n",
       "      <td>0.122378</td>\n",
       "      <td>Age</td>\n",
       "    </tr>\n",
       "    <tr>\n",
       "      <th>2</th>\n",
       "      <td>0.095443</td>\n",
       "      <td>BloodPressure</td>\n",
       "    </tr>\n",
       "    <tr>\n",
       "      <th>0</th>\n",
       "      <td>0.077555</td>\n",
       "      <td>Pregnancies</td>\n",
       "    </tr>\n",
       "    <tr>\n",
       "      <th>3</th>\n",
       "      <td>0.076790</td>\n",
       "      <td>SkinThickness</td>\n",
       "    </tr>\n",
       "    <tr>\n",
       "      <th>4</th>\n",
       "      <td>0.068372</td>\n",
       "      <td>Insulin</td>\n",
       "    </tr>\n",
       "  </tbody>\n",
       "</table>\n",
       "</div>"
      ],
      "text/plain": [
       "   importances                   feature\n",
       "1     0.257664                   Glucose\n",
       "5     0.158899                       BMI\n",
       "6     0.142901  DiabetesPedigreeFunction\n",
       "7     0.122378                       Age\n",
       "2     0.095443             BloodPressure\n",
       "0     0.077555               Pregnancies\n",
       "3     0.076790             SkinThickness\n",
       "4     0.068372                   Insulin"
      ]
     },
     "execution_count": 169,
     "metadata": {},
     "output_type": "execute_result"
    }
   ],
   "source": [
    "data_imp = {\"importances\": data_RF1.feature_importances_,\n",
    "        \"feature\": diabetes_data.columns[:-1]}\n",
    "data_plt = pd.DataFrame(data_imp)\n",
    "data_plt = data_plt.sort_values(by=['importances'], ascending=False)\n",
    "data_plt"
   ]
  },
  {
   "cell_type": "code",
   "execution_count": 170,
   "id": "510a562e",
   "metadata": {},
   "outputs": [
    {
     "data": {
      "text/plain": [
       "<AxesSubplot:xlabel='importances', ylabel='feature'>"
      ]
     },
     "execution_count": 170,
     "metadata": {},
     "output_type": "execute_result"
    },
    {
     "data": {
      "image/png": "[encoded data removed]",
      "text/plain": [
       "<Figure size 432x288 with 1 Axes>"
      ]
     },
     "metadata": {
      "needs_background": "light"
     },
     "output_type": "display_data"
    }
   ],
   "source": [
    "sns.barplot(x=\"importances\", y=\"feature\", data=data_plt)"
   ]
  },
  {
   "cell_type": "code",
   "execution_count": 183,
   "id": "f0330fca",
   "metadata": {},
   "outputs": [
    {
     "name": "stdout",
     "output_type": "stream",
     "text": [
      "The AUC for the best model of Random Forest is:  0.8574660633484162\n"
     ]
    }
   ],
   "source": [
    "predict_test = data_RF1.predict_proba(x_test) [:, 1]\n",
    "\n",
    "auc = roc_auc_score(y_test, predict_test)\n",
    "\n",
    "print(\"The AUC for the best model of Random Forest is: \", auc)"
   ]
  },
  {
   "cell_type": "code",
   "execution_count": null,
   "id": "67243775",
   "metadata": {},
   "outputs": [],
   "source": []
  },
  {
   "cell_type": "code",
   "execution_count": null,
   "id": "00f0e25e",
   "metadata": {},
   "outputs": [],
   "source": []
  },
  {
   "cell_type": "code",
   "execution_count": 193,
   "id": "a655143d",
   "metadata": {},
   "outputs": [],
   "source": [
    "from sklearn.svm import SVC\n",
    "from sklearn.metrics import confusion_matrix"
   ]
  },
  {
   "cell_type": "code",
   "execution_count": 222,
   "id": "563f91ec",
   "metadata": {},
   "outputs": [
    {
     "name": "stdout",
     "output_type": "stream",
     "text": [
      "[[91 11]\n",
      " [23 29]]\n",
      "accuracy: 0.7792207792207793\n",
      "recall: 0.5576923076923077\n",
      "precision: 0.725\n"
     ]
    }
   ],
   "source": [
    "svm_model1 = SVC(C=2, kernel=\"linear\", probability=True, random_state=42)\n",
    "\n",
    "svm_model1.fit(x_train, y_train)\n",
    "\n",
    "pred1 = svm_model1.predict(x_test)\n",
    "\n",
    "x1 = confusion_matrix(y_test, svm_model1.predict(x_test))\n",
    "print(x1)\n",
    "\n",
    "print(\"accuracy:\",accuracy_score(y_test, pred1))\n",
    "print(\"recall:\", recall_score(y_test, pred1))\n",
    "print(\"precision:\",precision_score(y_test,pred1))"
   ]
  },
  {
   "cell_type": "code",
   "execution_count": 223,
   "id": "53b3f30a",
   "metadata": {},
   "outputs": [
    {
     "name": "stdout",
     "output_type": "stream",
     "text": [
      "AUC for the test_set at cost of is:  0.865761689291101\n"
     ]
    }
   ],
   "source": [
    "print(\"AUC for the test_set at cost of is: \", roc_auc_score(y_test, svm_model1.predict_proba(x_test)[:, 1]))"
   ]
  },
  {
   "cell_type": "code",
   "execution_count": null,
   "id": "0e5fddf9",
   "metadata": {},
   "outputs": [],
   "source": []
  },
  {
   "cell_type": "code",
   "execution_count": 224,
   "id": "71f80886",
   "metadata": {},
   "outputs": [],
   "source": [
    "from sklearn.linear_model import LogisticRegression\n",
    "from sklearn.metrics import roc_auc_score\n",
    "from sklearn.model_selection import train_test_split\n",
    "from sklearn.preprocessing import StandardScaler\n",
    "from matplotlib import pyplot as plt\n",
    "from sklearn.tree import DecisionTreeClassifier\n",
    "from sklearn import tree\n",
    "import sklearn.metrics as metrics"
   ]
  },
  {
   "cell_type": "code",
   "execution_count": 225,
   "id": "9e6e9075",
   "metadata": {},
   "outputs": [
    {
     "name": "stdout",
     "output_type": "stream",
     "text": [
      "AUC for all 4 variables together:  0.8470965309200603\n"
     ]
    }
   ],
   "source": [
    "#logistic_regression_data\n",
    "logistic_reg_all = LogisticRegression(penalty = \"none\").fit(x_train, y_train)\n",
    "\n",
    "#logistic regression all predict probabilty\n",
    "predict_logistic_reg_all = logistic_reg_all.predict_proba(x_test)[:, 1]\n",
    "\n",
    "#auc score for all\n",
    "e = roc_auc_score(y_test, predict_logistic_reg_all)\n",
    "print(\"AUC for all 4 variables together: \", e)"
   ]
  },
  {
   "cell_type": "markdown",
   "id": "4b8ac1c2",
   "metadata": {},
   "source": [
    "## "
   ]
  }
 ],
 "metadata": {
  "kernelspec": {
   "display_name": "Python 3",
   "language": "python",
   "name": "python3"
  },
  "language_info": {
   "codemirror_mode": {
    "name": "ipython",
    "version": 3
   },
   "file_extension": ".py",
   "mimetype": "text/x-python",
   "name": "python",
   "nbconvert_exporter": "python",
   "pygments_lexer": "ipython3",
   "version": "3.8.5"
  }
 },
 "nbformat": 4,
 "nbformat_minor": 5
}
